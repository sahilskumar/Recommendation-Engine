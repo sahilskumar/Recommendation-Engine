{
  "nbformat": 4,
  "nbformat_minor": 0,
  "metadata": {
    "colab": {
      "name": "Restricted_Boltzmann_Machine(Preprocessing).ipynb",
      "version": "0.3.2",
      "provenance": [],
      "collapsed_sections": []
    },
    "kernelspec": {
      "name": "python3",
      "display_name": "Python 3"
    }
  },
  "cells": [
    {
      "cell_type": "code",
      "metadata": {
        "id": "p7eN6c4aa_Mx",
        "colab_type": "code",
        "colab": {}
      },
      "source": [
        "#Binary Classification of Movie of recommender System Using Boltzmann Machine\n",
        "from google.colab import files\n",
        "files.upload();"
      ],
      "execution_count": 0,
      "outputs": []
    },
    {
      "cell_type": "markdown",
      "metadata": {
        "id": "MQZLOQqLsAQ7",
        "colab_type": "text"
      },
      "source": [
        "# Importing DATA"
      ]
    },
    {
      "cell_type": "code",
      "metadata": {
        "id": "a-8rgjeCeS1H",
        "colab_type": "code",
        "colab": {}
      },
      "source": [
        "!wget http://files.grouplens.org/datasets/movielens/ml-1m.zip\n",
        "!wget http://files.grouplens.org/datasets/movielens/ml-100k.zip"
      ],
      "execution_count": 0,
      "outputs": []
    },
    {
      "cell_type": "code",
      "metadata": {
        "id": "1iNuenpYfhPq",
        "colab_type": "code",
        "colab": {}
      },
      "source": [
        "!ls\n",
        "!unzip ml-1m.zip\n",
        "!unzip ml-100k.zip"
      ],
      "execution_count": 0,
      "outputs": []
    },
    {
      "cell_type": "code",
      "metadata": {
        "id": "oXT7OmofejE9",
        "colab_type": "code",
        "colab": {}
      },
      "source": [
        "#Basic Library\n",
        "import pandas as pd\n",
        "import numpy as np\n",
        "\n",
        "#Pytorch Library\n",
        "import torch\n",
        "import torch.nn as nn #neural network\n",
        "import torch.nn.parallel\n",
        "import torch.optim as optim #optimizer\n",
        "import torch.utils.data\n",
        "from torch.autograd import variable #for stochastic gradient descent"
      ],
      "execution_count": 0,
      "outputs": []
    },
    {
      "cell_type": "markdown",
      "metadata": {
        "id": "Wk4HqVoBr7PM",
        "colab_type": "text"
      },
      "source": [
        "# DATA PREPROCESSING"
      ]
    },
    {
      "cell_type": "markdown",
      "metadata": {
        "id": "fv4uEwZQigwK",
        "colab_type": "text"
      },
      "source": [
        "**Importing data Explanation** \n",
        "The  file is dat\n",
        "1)Seperator is :: not comma as movie file name can contain comma\n",
        "2) header = None because nothing is specified as header default is infer means first row\n",
        "3) encoding is latin-1 not utf8 "
      ]
    },
    {
      "cell_type": "code",
      "metadata": {
        "id": "qGOXzFV1fV2r",
        "colab_type": "code",
        "colab": {}
      },
      "source": [
        "#importing the data set (.dat file not csv)\n",
        "movies = pd.read_csv(\"ml-1m/movies.dat\", header = None, encoding = 'latin-1' ,sep=\"::\", engine = 'python')\n",
        "users = pd.read_csv(\"ml-1m/users.dat\", header = None, encoding = 'latin-1' ,sep=\"::\", engine = 'python')\n",
        "ratings = pd.read_csv(\"ml-1m/ratings.dat\", header = None, encoding = 'latin-1' ,sep=\"::\", engine = 'python')"
      ],
      "execution_count": 0,
      "outputs": []
    },
    {
      "cell_type": "code",
      "metadata": {
        "id": "l0bPhAd3iRyn",
        "colab_type": "code",
        "colab": {}
      },
      "source": [
        "movies.head()\n",
        "users.head() \n",
        "ratings.head()"
      ],
      "execution_count": 0,
      "outputs": []
    },
    {
      "cell_type": "code",
      "metadata": {
        "id": "dTrPvgOPjy7D",
        "colab_type": "code",
        "colab": {}
      },
      "source": [
        "#preparing the training set and test set 80/20 split\n",
        "training_set = pd.read_csv(\"ml-100k/u1.base\", delimiter = '\\t')\n",
        "\n",
        "#pytorch does not work with dataframe ,it works only with array \n",
        "#converting dataframe to aray using numpy\n",
        "training_set = np.array(training_set ,dtype='int')\n",
        "test_set = pd.read_csv(\"ml-100k/u1.test\", delimiter = '\\t')\n",
        "test_set = np.array(test_set ,dtype='int')"
      ],
      "execution_count": 0,
      "outputs": []
    },
    {
      "cell_type": "code",
      "metadata": {
        "id": "1-r-M8dQoDHO",
        "colab_type": "code",
        "colab": {}
      },
      "source": [
        "#Getting the number of users and movies to make a matrix where each cell is rating (u,m) u=user and m=movie\n",
        "nb_users = int(max(max( training_set[:,0]),max(test_set[:,0])))\n",
        "nb_movies = int(max(max( training_set[:,1]),max(test_set[:,1])))"
      ],
      "execution_count": 0,
      "outputs": []
    },
    {
      "cell_type": "code",
      "metadata": {
        "id": "C-lO1MeSqEyO",
        "colab_type": "code",
        "colab": {}
      },
      "source": [
        "#converting the data into array with users as lines and movies as column(specific structure to feed to nn)\n",
        "def convert(data):\n",
        "  new_data = []            #making list of lists rather than matrix\n",
        "  for id_users in range(1, nb_users+1):\n",
        "    id_movies = data[:,1][data[:,0]==id_users]\n",
        "    id_rating = data[:,2][data[:,0]==id_users]\n",
        "    ratings = np.zeros(nb_movies)\n",
        "    ratings[id_movies-1]=id_rating\n",
        "    new_data.append(list(ratings))\n",
        "  return new_data\n",
        "training_set = convert(training_set) #now it is list of lists \n",
        "test_set = convert(test_set)"
      ],
      "execution_count": 0,
      "outputs": []
    },
    {
      "cell_type": "code",
      "metadata": {
        "id": "kFKQ9Q7LxHE8",
        "colab_type": "code",
        "colab": {}
      },
      "source": [
        "#converting the data into Torch tensor (Multidimensional Matrix)\n",
        "training_set = torch.FloatTensor(training_set)\n",
        "test_set = torch.FloatTensor(test_set)"
      ],
      "execution_count": 0,
      "outputs": []
    },
    {
      "cell_type": "markdown",
      "metadata": {
        "id": "iq9Uks5izr7v",
        "colab_type": "text"
      },
      "source": [
        "# Building a Boltzmann Machine"
      ]
    },
    {
      "cell_type": "code",
      "metadata": {
        "id": "KPZ4z0Tgy-Ak",
        "colab_type": "code",
        "colab": {}
      },
      "source": [
        "#converting the rating into binary rating(1 or 0) and -1 for not rated \n",
        "training_set[training_set == 0] = -1\n",
        "training_set[training_set >= 3] = 1\n",
        "training_set[training_set == 1] = 0\n",
        "training_set[training_set == 2] = 0\n",
        "test_set[test_set == 0] = -1\n",
        "test_set[test_set >= 3] = 1\n",
        "test_set[test_set == 1] = 0\n",
        "test_set[test_set == 2] = 0"
      ],
      "execution_count": 0,
      "outputs": []
    },
    {
      "cell_type": "code",
      "metadata": {
        "id": "kpwvPBEu1o6j",
        "colab_type": "code",
        "colab": {}
      },
      "source": [
        "# Creating the architecture of the Neural Network\n",
        "class RBM():\n",
        "    # nv = visible nodes\n",
        "    # nh = hidden nodes\n",
        "    def __init__(self, nv, nh):\n",
        "        # Initialize the weights - this consists of a matrix with the size of the hidden nodes and visible nodes\n",
        "        self.W = torch.randn(nh, nv)\n",
        "        # Initialize the bias and add a 2nd Dimension\n",
        "        self.a = torch.randn(1, nh)\n",
        "        self.b = torch.randn(1, nv)\n",
        "    \n",
        "    ## Sample the hidden nodes\n",
        "    def sample_h(self, x):\n",
        "        # Define product of the weights\n",
        "        # .t = transpose which is used to make the equation mathematically correct\n",
        "        wx = torch.mm(x, self.W.t())\n",
        "        # expand_as = make the activation function the same Dimension for each mini-batch\n",
        "        activation = wx + self.a.expand_as(wx)\n",
        "        # Probability value given the visible nodes\n",
        "        # Given the value of the visible nodes we return the probability of each of the hidden nodes = 1\n",
        "        p_h_given_v = torch.sigmoid(activation)\n",
        "        # Based on the probability, activate the hidden node\n",
        "        return p_h_given_v, torch.bernoulli(p_h_given_v)\n",
        "    \n",
        "    ## Sample the visible nodes\n",
        "    def sample_v(self, y):\n",
        "        # Define product of the weights\n",
        "        wy = torch.mm(y, self.W)\n",
        "        # expand_as = make the activation function the same Dimension for each mini-batch\n",
        "        activation = wy + self.b.expand_as(wy)\n",
        "        # Probability value given the hidden nodes\n",
        "        # Given the value of the hidden nodes we return the probability of each of the visible nodes = 1\n",
        "        p_v_given_h = torch.sigmoid(activation)\n",
        "        # Based on the probability, predict whether the user will like the movie or not\n",
        "        return p_v_given_h, torch.bernoulli(p_v_given_h)\n",
        "    \n",
        "    ## Contrastive Divergence\n",
        "    # v0 = Input vector, e.g. ratings of all the movies by one user\n",
        "    # vk = Visible nodes after k sampling\n",
        "    # ph0 = Vector of probabilities, at first iteration the hidden nodes = 1 given the values of v0\n",
        "    # phk = Probabilities of the hidden nodes after k sampling\n",
        "    def train(self, v0, vk, ph0, phk):\n",
        "        # Updating the weights\n",
        "        self.W += (torch.mm(v0.t(), ph0) - torch.mm(vk.t(), phk)).t()\n",
        "        # The sum is used to keep the same dimensions of the bias\n",
        "        self.b += torch.sum( (v0 - vk), 0 )\n",
        "        self.a += torch.sum( (ph0 - phk), 0 )\n",
        "\n",
        "nv = len(training_set[0])\n",
        "nh = 100\n",
        "batch_size = 100\n",
        "\n",
        "rbm = RBM(nv,nh)"
      ],
      "execution_count": 0,
      "outputs": []
    },
    {
      "cell_type": "code",
      "metadata": {
        "id": "zRnXdmsOYc02",
        "colab_type": "code",
        "colab": {
          "base_uri": "https://localhost:8080/",
          "height": 182
        },
        "outputId": "541b4ca2-873a-49cd-942f-c2c00ce98a75"
      },
      "source": [
        "# Training the RBM\n",
        "nb_epoch = 10\n",
        "for epoch in range(1, nb_epoch + 1):\n",
        "    ### Maximum Absolute Value\n",
        "    train_loss = 0\n",
        "    s = 0.\n",
        "    ## Batch learning\n",
        "    for id_user in range(0, nb_users - batch_size, batch_size):\n",
        "        # Grabs the batch of units\n",
        "        vk = training_set[id_user:id_user + batch_size]\n",
        "        v0 = training_set[id_user:id_user + batch_size]\n",
        "        # [variable name],_ = Only return first element of the function\n",
        "        # Used to start the loop to make the Gibbs Chain for Gibbs Sampling\n",
        "        ph0,_ = rbm.sample_h(v0)\n",
        "        ## K-step Contrastive Divergence\n",
        "        for k in range(10):\n",
        "            # _,[variable name] = Only return second element of the function\n",
        "            # returns sample of hidden nodes\n",
        "            _,hk = rbm.sample_h(vk)\n",
        "            # Returns sample of visible nodes\n",
        "            _,vk = rbm.sample_v(hk)\n",
        "            # Avoid using the ratings with -1 (Movies a user hasn't rated)\n",
        "            vk[v0 < 0] = v0[v0 < 0]\n",
        "        phk,_ = rbm.sample_h(vk)\n",
        "        rbm.train(v0, vk, ph0, phk)\n",
        "        ## Update the train loss\n",
        "        # Identify the absolute value of the ratings that exist (that are not -1)\n",
        "        train_loss += torch.mean(torch.abs(v0[v0 >= 0] - vk[v0 >= 0]))\n",
        "        # Update the counter to normalize the train loss\n",
        "        s += 1.\n",
        "    print('epoch: ' + str(epoch) + ' loss: ' + str(train_loss/s))"
      ],
      "execution_count": 48,
      "outputs": [
        {
          "output_type": "stream",
          "text": [
            "epoch: 1 loss: tensor(0.2421)\n",
            "epoch: 2 loss: tensor(0.2478)\n",
            "epoch: 3 loss: tensor(0.2465)\n",
            "epoch: 4 loss: tensor(0.2454)\n",
            "epoch: 5 loss: tensor(0.2482)\n",
            "epoch: 6 loss: tensor(0.2439)\n",
            "epoch: 7 loss: tensor(0.2469)\n",
            "epoch: 8 loss: tensor(0.2453)\n",
            "epoch: 9 loss: tensor(0.2461)\n",
            "epoch: 10 loss: tensor(0.2453)\n"
          ],
          "name": "stdout"
        }
      ]
    },
    {
      "cell_type": "code",
      "metadata": {
        "id": "6Igy0QLXkDbU",
        "colab_type": "code",
        "colab": {
          "base_uri": "https://localhost:8080/",
          "height": 33
        },
        "outputId": "3e5790df-e22c-4b31-bd1f-85d4cf4c4ea3"
      },
      "source": [
        "test_loss = 0\n",
        "s = 0.\n",
        "for id_user in range(nb_users):\n",
        "    v = training_set[id_user:id_user+1]\n",
        "    vt = test_set[id_user:id_user+1]\n",
        "    if len(vt[vt>=0]) > 0:\n",
        "        _,h = rbm.sample_h(v)\n",
        "        _,v = rbm.sample_v(h)\n",
        "        vt[vt>=0]\n",
        "        test_loss += torch.mean(torch.abs(vt[vt>=0] - v[vt>=0])) # Average Distance here\n",
        "        s += 1.\n",
        "print('test loss: '+str(test_loss/s))"
      ],
      "execution_count": 52,
      "outputs": [
        {
          "output_type": "stream",
          "text": [
            "test loss: tensor(0.2541)\n"
          ],
          "name": "stdout"
        }
      ]
    }
  ]
}